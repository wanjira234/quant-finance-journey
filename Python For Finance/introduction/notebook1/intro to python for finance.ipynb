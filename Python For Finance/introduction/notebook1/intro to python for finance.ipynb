{
 "cells": [
  {
   "cell_type": "markdown",
   "metadata": {},
   "source": [
    "Hello World"
   ]
  },
  {
   "cell_type": "code",
   "execution_count": 4,
   "metadata": {},
   "outputs": [
    {
     "name": "stdout",
     "output_type": "stream",
     "text": [
      "hello\n"
     ]
    }
   ],
   "source": [
    "print(\"hello\")"
   ]
  },
  {
   "cell_type": "markdown",
   "metadata": {},
   "source": [
    "Variables"
   ]
  },
  {
   "cell_type": "code",
   "execution_count": 5,
   "metadata": {},
   "outputs": [
    {
     "name": "stdout",
     "output_type": "stream",
     "text": [
      "Epiphany\n"
     ]
    }
   ],
   "source": [
    "my_name = \"Epiphany\"\n",
    "print(my_name)"
   ]
  },
  {
   "cell_type": "markdown",
   "metadata": {},
   "source": [
    "Multiplication"
   ]
  },
  {
   "cell_type": "code",
   "execution_count": null,
   "metadata": {},
   "outputs": [
    {
     "name": "stdout",
     "output_type": "stream",
     "text": [
      "The amount of shares we have is:, 6750\n"
     ]
    }
   ],
   "source": [
    "stock_price = int(input(\"What is the stock price? \"))\n",
    "number_of_shares = int(input(\"What is the number of shares? \"))\n",
    "print(f\"The amount of shares we have is: {str(stock_price * number_of_shares)}\")"
   ]
  },
  {
   "cell_type": "markdown",
   "metadata": {},
   "source": [
    "Use a for loop"
   ]
  },
  {
   "cell_type": "code",
   "execution_count": 12,
   "metadata": {},
   "outputs": [
    {
     "name": "stdout",
     "output_type": "stream",
     "text": [
      "1\n",
      "2\n",
      "3\n",
      "4\n",
      "5\n",
      "6\n",
      "7\n",
      "8\n",
      "9\n",
      "10\n"
     ]
    }
   ],
   "source": [
    "values =[1,2,3,4,5,6,7,8,9,10]\n",
    "for i in values:\n",
    "    print(i)\n",
    "# print(type(values))"
   ]
  },
  {
   "cell_type": "markdown",
   "metadata": {},
   "source": [
    "If statements"
   ]
  },
  {
   "cell_type": "code",
   "execution_count": null,
   "metadata": {},
   "outputs": [
    {
     "name": "stdout",
     "output_type": "stream",
     "text": [
      "21: is greater than 1\n"
     ]
    }
   ],
   "source": [
    "a = int(input(\"what is A: \"))\n",
    "b = int(input(\"what is B: \"))\n",
    "if a > b:\n",
    "    print(f\"{a} is greater than {b}\")\n",
    "else:\n",
    "    print(f\"{a} is less than {b}\")"
   ]
  },
  {
   "cell_type": "markdown",
   "metadata": {},
   "source": [
    "Importing standard finance libraries\n"
   ]
  },
  {
   "cell_type": "code",
   "execution_count": 22,
   "metadata": {},
   "outputs": [],
   "source": [
    "import yfinance as yf\n",
    "import pandas as pd\n",
    "import pandas_datareader as pdr\n",
    "import datetime as dt\n",
    "import numpy as np"
   ]
  },
  {
   "cell_type": "markdown",
   "metadata": {},
   "source": [
    "Declaring The Datetime Of Our Stock Returns"
   ]
  },
  {
   "cell_type": "code",
   "execution_count": 25,
   "metadata": {},
   "outputs": [
    {
     "data": {
      "text/plain": [
       "(datetime.datetime(2025, 6, 26, 18, 1, 0, 654219),\n",
       " datetime.datetime(2020, 6, 27, 18, 1, 0, 654219))"
      ]
     },
     "execution_count": 25,
     "metadata": {},
     "output_type": "execute_result"
    }
   ],
   "source": [
    "end_date = dt.datetime.now()\n",
    "start_date = end_date - dt.timedelta(days=365*5)\n",
    "end_date, start_date"
   ]
  },
  {
   "cell_type": "markdown",
   "metadata": {},
   "source": [
    "Lets Create A Stock List"
   ]
  },
  {
   "cell_type": "code",
   "execution_count": 28,
   "metadata": {},
   "outputs": [],
   "source": [
    "stock = [\"MSFT\", \"SPY\", \"QQQ\"]"
   ]
  },
  {
   "cell_type": "markdown",
   "metadata": {},
   "source": [
    "Now We Download The Dataset For Yfinance"
   ]
  },
  {
   "cell_type": "code",
   "execution_count": 29,
   "metadata": {},
   "outputs": [
    {
     "name": "stderr",
     "output_type": "stream",
     "text": [
      "C:\\Users\\Epiphany W. Kiruri\\AppData\\Local\\Temp\\ipykernel_10100\\587095580.py:1: FutureWarning: YF.download() has changed argument auto_adjust default to True\n",
      "  df = yf.download(stock, start=start_date, end=end_date)\n",
      "[*********************100%***********************]  3 of 3 completed\n"
     ]
    }
   ],
   "source": [
    "df = yf.download(stock, start=start_date, end=end_date)"
   ]
  },
  {
   "cell_type": "markdown",
   "metadata": {},
   "source": [
    "Lets View The DataFrame"
   ]
  },
  {
   "cell_type": "code",
   "execution_count": 30,
   "metadata": {},
   "outputs": [
    {
     "data": {
      "text/html": [
       "<div>\n",
       "<style scoped>\n",
       "    .dataframe tbody tr th:only-of-type {\n",
       "        vertical-align: middle;\n",
       "    }\n",
       "\n",
       "    .dataframe tbody tr th {\n",
       "        vertical-align: top;\n",
       "    }\n",
       "\n",
       "    .dataframe thead tr th {\n",
       "        text-align: left;\n",
       "    }\n",
       "\n",
       "    .dataframe thead tr:last-of-type th {\n",
       "        text-align: right;\n",
       "    }\n",
       "</style>\n",
       "<table border=\"1\" class=\"dataframe\">\n",
       "  <thead>\n",
       "    <tr>\n",
       "      <th>Price</th>\n",
       "      <th colspan=\"3\" halign=\"left\">Close</th>\n",
       "      <th colspan=\"3\" halign=\"left\">High</th>\n",
       "      <th colspan=\"3\" halign=\"left\">Low</th>\n",
       "      <th colspan=\"3\" halign=\"left\">Open</th>\n",
       "      <th colspan=\"3\" halign=\"left\">Volume</th>\n",
       "    </tr>\n",
       "    <tr>\n",
       "      <th>Ticker</th>\n",
       "      <th>MSFT</th>\n",
       "      <th>QQQ</th>\n",
       "      <th>SPY</th>\n",
       "      <th>MSFT</th>\n",
       "      <th>QQQ</th>\n",
       "      <th>SPY</th>\n",
       "      <th>MSFT</th>\n",
       "      <th>QQQ</th>\n",
       "      <th>SPY</th>\n",
       "      <th>MSFT</th>\n",
       "      <th>QQQ</th>\n",
       "      <th>SPY</th>\n",
       "      <th>MSFT</th>\n",
       "      <th>QQQ</th>\n",
       "      <th>SPY</th>\n",
       "    </tr>\n",
       "    <tr>\n",
       "      <th>Date</th>\n",
       "      <th></th>\n",
       "      <th></th>\n",
       "      <th></th>\n",
       "      <th></th>\n",
       "      <th></th>\n",
       "      <th></th>\n",
       "      <th></th>\n",
       "      <th></th>\n",
       "      <th></th>\n",
       "      <th></th>\n",
       "      <th></th>\n",
       "      <th></th>\n",
       "      <th></th>\n",
       "      <th></th>\n",
       "      <th></th>\n",
       "    </tr>\n",
       "  </thead>\n",
       "  <tbody>\n",
       "    <tr>\n",
       "      <th>2020-06-29</th>\n",
       "      <td>190.122498</td>\n",
       "      <td>235.808456</td>\n",
       "      <td>283.488190</td>\n",
       "      <td>190.208722</td>\n",
       "      <td>235.818176</td>\n",
       "      <td>283.627852</td>\n",
       "      <td>185.437460</td>\n",
       "      <td>230.477431</td>\n",
       "      <td>278.339108</td>\n",
       "      <td>187.573987</td>\n",
       "      <td>233.021563</td>\n",
       "      <td>280.648291</td>\n",
       "      <td>26701600</td>\n",
       "      <td>34377800</td>\n",
       "      <td>79773300</td>\n",
       "    </tr>\n",
       "    <tr>\n",
       "      <th>2020-06-30</th>\n",
       "      <td>194.979996</td>\n",
       "      <td>240.430725</td>\n",
       "      <td>287.119629</td>\n",
       "      <td>195.832691</td>\n",
       "      <td>240.974508</td>\n",
       "      <td>288.832912</td>\n",
       "      <td>189.451852</td>\n",
       "      <td>235.556076</td>\n",
       "      <td>282.892372</td>\n",
       "      <td>189.585984</td>\n",
       "      <td>235.740576</td>\n",
       "      <td>283.050646</td>\n",
       "      <td>34310300</td>\n",
       "      <td>38909200</td>\n",
       "      <td>113394800</td>\n",
       "    </tr>\n",
       "    <tr>\n",
       "      <th>2020-07-01</th>\n",
       "      <td>196.120148</td>\n",
       "      <td>243.237045</td>\n",
       "      <td>289.130829</td>\n",
       "      <td>197.700998</td>\n",
       "      <td>244.237220</td>\n",
       "      <td>290.406485</td>\n",
       "      <td>193.312964</td>\n",
       "      <td>239.925779</td>\n",
       "      <td>287.780724</td>\n",
       "      <td>194.625536</td>\n",
       "      <td>240.469561</td>\n",
       "      <td>288.246284</td>\n",
       "      <td>32061200</td>\n",
       "      <td>34689200</td>\n",
       "      <td>72396500</td>\n",
       "    </tr>\n",
       "    <tr>\n",
       "      <th>2020-07-02</th>\n",
       "      <td>197.614731</td>\n",
       "      <td>244.887772</td>\n",
       "      <td>290.723022</td>\n",
       "      <td>199.300971</td>\n",
       "      <td>246.907546</td>\n",
       "      <td>293.954003</td>\n",
       "      <td>196.407548</td>\n",
       "      <td>244.421674</td>\n",
       "      <td>290.052616</td>\n",
       "      <td>197.059039</td>\n",
       "      <td>245.693741</td>\n",
       "      <td>292.594551</td>\n",
       "      <td>29315800</td>\n",
       "      <td>31956500</td>\n",
       "      <td>69344200</td>\n",
       "    </tr>\n",
       "    <tr>\n",
       "      <th>2020-07-06</th>\n",
       "      <td>201.868652</td>\n",
       "      <td>250.908325</td>\n",
       "      <td>295.210999</td>\n",
       "      <td>202.280637</td>\n",
       "      <td>251.432668</td>\n",
       "      <td>295.797608</td>\n",
       "      <td>199.368048</td>\n",
       "      <td>248.034011</td>\n",
       "      <td>293.823642</td>\n",
       "      <td>200.077037</td>\n",
       "      <td>248.053436</td>\n",
       "      <td>294.577845</td>\n",
       "      <td>31897600</td>\n",
       "      <td>34589000</td>\n",
       "      <td>61713800</td>\n",
       "    </tr>\n",
       "  </tbody>\n",
       "</table>\n",
       "</div>"
      ],
      "text/plain": [
       "Price            Close                                High              \\\n",
       "Ticker            MSFT         QQQ         SPY        MSFT         QQQ   \n",
       "Date                                                                     \n",
       "2020-06-29  190.122498  235.808456  283.488190  190.208722  235.818176   \n",
       "2020-06-30  194.979996  240.430725  287.119629  195.832691  240.974508   \n",
       "2020-07-01  196.120148  243.237045  289.130829  197.700998  244.237220   \n",
       "2020-07-02  197.614731  244.887772  290.723022  199.300971  246.907546   \n",
       "2020-07-06  201.868652  250.908325  295.210999  202.280637  251.432668   \n",
       "\n",
       "Price                          Low                                Open  \\\n",
       "Ticker             SPY        MSFT         QQQ         SPY        MSFT   \n",
       "Date                                                                     \n",
       "2020-06-29  283.627852  185.437460  230.477431  278.339108  187.573987   \n",
       "2020-06-30  288.832912  189.451852  235.556076  282.892372  189.585984   \n",
       "2020-07-01  290.406485  193.312964  239.925779  287.780724  194.625536   \n",
       "2020-07-02  293.954003  196.407548  244.421674  290.052616  197.059039   \n",
       "2020-07-06  295.797608  199.368048  248.034011  293.823642  200.077037   \n",
       "\n",
       "Price                                 Volume                       \n",
       "Ticker             QQQ         SPY      MSFT       QQQ        SPY  \n",
       "Date                                                               \n",
       "2020-06-29  233.021563  280.648291  26701600  34377800   79773300  \n",
       "2020-06-30  235.740576  283.050646  34310300  38909200  113394800  \n",
       "2020-07-01  240.469561  288.246284  32061200  34689200   72396500  \n",
       "2020-07-02  245.693741  292.594551  29315800  31956500   69344200  \n",
       "2020-07-06  248.053436  294.577845  31897600  34589000   61713800  "
      ]
     },
     "execution_count": 30,
     "metadata": {},
     "output_type": "execute_result"
    }
   ],
   "source": [
    "df.head()"
   ]
  },
  {
   "cell_type": "code",
   "execution_count": 31,
   "metadata": {},
   "outputs": [
    {
     "data": {
      "text/plain": [
       "(1255, 15)"
      ]
     },
     "execution_count": 31,
     "metadata": {},
     "output_type": "execute_result"
    }
   ],
   "source": [
    "df.shape"
   ]
  },
  {
   "cell_type": "code",
   "execution_count": 33,
   "metadata": {},
   "outputs": [
    {
     "data": {
      "text/plain": [
       "MultiIndex([( 'Close', 'MSFT'),\n",
       "            ( 'Close',  'QQQ'),\n",
       "            ( 'Close',  'SPY'),\n",
       "            (  'High', 'MSFT'),\n",
       "            (  'High',  'QQQ'),\n",
       "            (  'High',  'SPY'),\n",
       "            (   'Low', 'MSFT'),\n",
       "            (   'Low',  'QQQ'),\n",
       "            (   'Low',  'SPY'),\n",
       "            (  'Open', 'MSFT'),\n",
       "            (  'Open',  'QQQ'),\n",
       "            (  'Open',  'SPY'),\n",
       "            ('Volume', 'MSFT'),\n",
       "            ('Volume',  'QQQ'),\n",
       "            ('Volume',  'SPY')],\n",
       "           names=['Price', 'Ticker'])"
      ]
     },
     "execution_count": 33,
     "metadata": {},
     "output_type": "execute_result"
    }
   ],
   "source": [
    "df.columns"
   ]
  },
  {
   "cell_type": "code",
   "execution_count": 34,
   "metadata": {},
   "outputs": [
    {
     "name": "stdout",
     "output_type": "stream",
     "text": [
      "<class 'pandas.core.frame.DataFrame'>\n",
      "DatetimeIndex: 1255 entries, 2020-06-29 to 2025-06-26\n",
      "Data columns (total 15 columns):\n",
      " #   Column          Non-Null Count  Dtype  \n",
      "---  ------          --------------  -----  \n",
      " 0   (Close, MSFT)   1255 non-null   float64\n",
      " 1   (Close, QQQ)    1255 non-null   float64\n",
      " 2   (Close, SPY)    1255 non-null   float64\n",
      " 3   (High, MSFT)    1255 non-null   float64\n",
      " 4   (High, QQQ)     1255 non-null   float64\n",
      " 5   (High, SPY)     1255 non-null   float64\n",
      " 6   (Low, MSFT)     1255 non-null   float64\n",
      " 7   (Low, QQQ)      1255 non-null   float64\n",
      " 8   (Low, SPY)      1255 non-null   float64\n",
      " 9   (Open, MSFT)    1255 non-null   float64\n",
      " 10  (Open, QQQ)     1255 non-null   float64\n",
      " 11  (Open, SPY)     1255 non-null   float64\n",
      " 12  (Volume, MSFT)  1255 non-null   int64  \n",
      " 13  (Volume, QQQ)   1255 non-null   int64  \n",
      " 14  (Volume, SPY)   1255 non-null   int64  \n",
      "dtypes: float64(12), int64(3)\n",
      "memory usage: 156.9 KB\n"
     ]
    }
   ],
   "source": [
    "df.info()"
   ]
  },
  {
   "cell_type": "code",
   "execution_count": 35,
   "metadata": {},
   "outputs": [
    {
     "data": {
      "text/html": [
       "<div>\n",
       "<style scoped>\n",
       "    .dataframe tbody tr th:only-of-type {\n",
       "        vertical-align: middle;\n",
       "    }\n",
       "\n",
       "    .dataframe tbody tr th {\n",
       "        vertical-align: top;\n",
       "    }\n",
       "\n",
       "    .dataframe thead th {\n",
       "        text-align: right;\n",
       "    }\n",
       "</style>\n",
       "<table border=\"1\" class=\"dataframe\">\n",
       "  <thead>\n",
       "    <tr style=\"text-align: right;\">\n",
       "      <th>Ticker</th>\n",
       "      <th>MSFT</th>\n",
       "      <th>QQQ</th>\n",
       "      <th>SPY</th>\n",
       "    </tr>\n",
       "    <tr>\n",
       "      <th>Date</th>\n",
       "      <th></th>\n",
       "      <th></th>\n",
       "      <th></th>\n",
       "    </tr>\n",
       "  </thead>\n",
       "  <tbody>\n",
       "    <tr>\n",
       "      <th>2020-06-29</th>\n",
       "      <td>190.122498</td>\n",
       "      <td>235.808456</td>\n",
       "      <td>283.488190</td>\n",
       "    </tr>\n",
       "    <tr>\n",
       "      <th>2020-06-30</th>\n",
       "      <td>194.979996</td>\n",
       "      <td>240.430725</td>\n",
       "      <td>287.119629</td>\n",
       "    </tr>\n",
       "    <tr>\n",
       "      <th>2020-07-01</th>\n",
       "      <td>196.120148</td>\n",
       "      <td>243.237045</td>\n",
       "      <td>289.130829</td>\n",
       "    </tr>\n",
       "    <tr>\n",
       "      <th>2020-07-02</th>\n",
       "      <td>197.614731</td>\n",
       "      <td>244.887772</td>\n",
       "      <td>290.723022</td>\n",
       "    </tr>\n",
       "    <tr>\n",
       "      <th>2020-07-06</th>\n",
       "      <td>201.868652</td>\n",
       "      <td>250.908325</td>\n",
       "      <td>295.210999</td>\n",
       "    </tr>\n",
       "    <tr>\n",
       "      <th>...</th>\n",
       "      <td>...</td>\n",
       "      <td>...</td>\n",
       "      <td>...</td>\n",
       "    </tr>\n",
       "    <tr>\n",
       "      <th>2025-06-20</th>\n",
       "      <td>477.399994</td>\n",
       "      <td>526.239014</td>\n",
       "      <td>594.280029</td>\n",
       "    </tr>\n",
       "    <tr>\n",
       "      <th>2025-06-23</th>\n",
       "      <td>486.000000</td>\n",
       "      <td>531.650024</td>\n",
       "      <td>600.150024</td>\n",
       "    </tr>\n",
       "    <tr>\n",
       "      <th>2025-06-24</th>\n",
       "      <td>490.109985</td>\n",
       "      <td>539.780029</td>\n",
       "      <td>606.780029</td>\n",
       "    </tr>\n",
       "    <tr>\n",
       "      <th>2025-06-25</th>\n",
       "      <td>492.269989</td>\n",
       "      <td>541.159973</td>\n",
       "      <td>607.119995</td>\n",
       "    </tr>\n",
       "    <tr>\n",
       "      <th>2025-06-26</th>\n",
       "      <td>493.489990</td>\n",
       "      <td>544.030029</td>\n",
       "      <td>610.649292</td>\n",
       "    </tr>\n",
       "  </tbody>\n",
       "</table>\n",
       "<p>1255 rows × 3 columns</p>\n",
       "</div>"
      ],
      "text/plain": [
       "Ticker            MSFT         QQQ         SPY\n",
       "Date                                          \n",
       "2020-06-29  190.122498  235.808456  283.488190\n",
       "2020-06-30  194.979996  240.430725  287.119629\n",
       "2020-07-01  196.120148  243.237045  289.130829\n",
       "2020-07-02  197.614731  244.887772  290.723022\n",
       "2020-07-06  201.868652  250.908325  295.210999\n",
       "...                ...         ...         ...\n",
       "2025-06-20  477.399994  526.239014  594.280029\n",
       "2025-06-23  486.000000  531.650024  600.150024\n",
       "2025-06-24  490.109985  539.780029  606.780029\n",
       "2025-06-25  492.269989  541.159973  607.119995\n",
       "2025-06-26  493.489990  544.030029  610.649292\n",
       "\n",
       "[1255 rows x 3 columns]"
      ]
     },
     "execution_count": 35,
     "metadata": {},
     "output_type": "execute_result"
    }
   ],
   "source": [
    "adj_close_price = df[\"Close\"]\n",
    "adj_close_price"
   ]
  },
  {
   "cell_type": "markdown",
   "metadata": {},
   "source": [
    "calculate daily changes in returns\n",
    "we divide the bottom value by the top value 1= NAn since no other value on top of it"
   ]
  },
  {
   "cell_type": "code",
   "execution_count": 36,
   "metadata": {},
   "outputs": [
    {
     "data": {
      "text/html": [
       "<div>\n",
       "<style scoped>\n",
       "    .dataframe tbody tr th:only-of-type {\n",
       "        vertical-align: middle;\n",
       "    }\n",
       "\n",
       "    .dataframe tbody tr th {\n",
       "        vertical-align: top;\n",
       "    }\n",
       "\n",
       "    .dataframe thead th {\n",
       "        text-align: right;\n",
       "    }\n",
       "</style>\n",
       "<table border=\"1\" class=\"dataframe\">\n",
       "  <thead>\n",
       "    <tr style=\"text-align: right;\">\n",
       "      <th>Ticker</th>\n",
       "      <th>MSFT</th>\n",
       "      <th>QQQ</th>\n",
       "      <th>SPY</th>\n",
       "    </tr>\n",
       "    <tr>\n",
       "      <th>Date</th>\n",
       "      <th></th>\n",
       "      <th></th>\n",
       "      <th></th>\n",
       "    </tr>\n",
       "  </thead>\n",
       "  <tbody>\n",
       "    <tr>\n",
       "      <th>2020-06-29</th>\n",
       "      <td>NaN</td>\n",
       "      <td>NaN</td>\n",
       "      <td>NaN</td>\n",
       "    </tr>\n",
       "    <tr>\n",
       "      <th>2020-06-30</th>\n",
       "      <td>0.025228</td>\n",
       "      <td>0.019412</td>\n",
       "      <td>0.012728</td>\n",
       "    </tr>\n",
       "    <tr>\n",
       "      <th>2020-07-01</th>\n",
       "      <td>0.005831</td>\n",
       "      <td>0.011604</td>\n",
       "      <td>0.006980</td>\n",
       "    </tr>\n",
       "    <tr>\n",
       "      <th>2020-07-02</th>\n",
       "      <td>0.007592</td>\n",
       "      <td>0.006764</td>\n",
       "      <td>0.005492</td>\n",
       "    </tr>\n",
       "    <tr>\n",
       "      <th>2020-07-06</th>\n",
       "      <td>0.021298</td>\n",
       "      <td>0.024288</td>\n",
       "      <td>0.015319</td>\n",
       "    </tr>\n",
       "    <tr>\n",
       "      <th>...</th>\n",
       "      <td>...</td>\n",
       "      <td>...</td>\n",
       "      <td>...</td>\n",
       "    </tr>\n",
       "    <tr>\n",
       "      <th>2025-06-20</th>\n",
       "      <td>-0.005931</td>\n",
       "      <td>-0.004092</td>\n",
       "      <td>-0.002351</td>\n",
       "    </tr>\n",
       "    <tr>\n",
       "      <th>2025-06-23</th>\n",
       "      <td>0.017854</td>\n",
       "      <td>0.010230</td>\n",
       "      <td>0.009829</td>\n",
       "    </tr>\n",
       "    <tr>\n",
       "      <th>2025-06-24</th>\n",
       "      <td>0.008421</td>\n",
       "      <td>0.015176</td>\n",
       "      <td>0.010987</td>\n",
       "    </tr>\n",
       "    <tr>\n",
       "      <th>2025-06-25</th>\n",
       "      <td>0.004397</td>\n",
       "      <td>0.002553</td>\n",
       "      <td>0.000560</td>\n",
       "    </tr>\n",
       "    <tr>\n",
       "      <th>2025-06-26</th>\n",
       "      <td>0.002475</td>\n",
       "      <td>0.005290</td>\n",
       "      <td>0.005796</td>\n",
       "    </tr>\n",
       "  </tbody>\n",
       "</table>\n",
       "<p>1255 rows × 3 columns</p>\n",
       "</div>"
      ],
      "text/plain": [
       "Ticker          MSFT       QQQ       SPY\n",
       "Date                                    \n",
       "2020-06-29       NaN       NaN       NaN\n",
       "2020-06-30  0.025228  0.019412  0.012728\n",
       "2020-07-01  0.005831  0.011604  0.006980\n",
       "2020-07-02  0.007592  0.006764  0.005492\n",
       "2020-07-06  0.021298  0.024288  0.015319\n",
       "...              ...       ...       ...\n",
       "2025-06-20 -0.005931 -0.004092 -0.002351\n",
       "2025-06-23  0.017854  0.010230  0.009829\n",
       "2025-06-24  0.008421  0.015176  0.010987\n",
       "2025-06-25  0.004397  0.002553  0.000560\n",
       "2025-06-26  0.002475  0.005290  0.005796\n",
       "\n",
       "[1255 rows x 3 columns]"
      ]
     },
     "execution_count": 36,
     "metadata": {},
     "output_type": "execute_result"
    }
   ],
   "source": [
    "log_returns = np.log(adj_close_price/adj_close_price.shift(1))\n",
    "log_returns"
   ]
  },
  {
   "cell_type": "markdown",
   "metadata": {},
   "source": [
    "Cumulative Log Returns"
   ]
  },
  {
   "cell_type": "code",
   "execution_count": 40,
   "metadata": {},
   "outputs": [
    {
     "data": {
      "text/html": [
       "<div>\n",
       "<style scoped>\n",
       "    .dataframe tbody tr th:only-of-type {\n",
       "        vertical-align: middle;\n",
       "    }\n",
       "\n",
       "    .dataframe tbody tr th {\n",
       "        vertical-align: top;\n",
       "    }\n",
       "\n",
       "    .dataframe thead th {\n",
       "        text-align: right;\n",
       "    }\n",
       "</style>\n",
       "<table border=\"1\" class=\"dataframe\">\n",
       "  <thead>\n",
       "    <tr style=\"text-align: right;\">\n",
       "      <th>Ticker</th>\n",
       "      <th>MSFT</th>\n",
       "      <th>QQQ</th>\n",
       "      <th>SPY</th>\n",
       "    </tr>\n",
       "    <tr>\n",
       "      <th>Date</th>\n",
       "      <th></th>\n",
       "      <th></th>\n",
       "      <th></th>\n",
       "    </tr>\n",
       "  </thead>\n",
       "  <tbody>\n",
       "    <tr>\n",
       "      <th>2020-06-29</th>\n",
       "      <td>NaN</td>\n",
       "      <td>NaN</td>\n",
       "      <td>NaN</td>\n",
       "    </tr>\n",
       "    <tr>\n",
       "      <th>2020-06-30</th>\n",
       "      <td>0.025228</td>\n",
       "      <td>0.019412</td>\n",
       "      <td>0.012728</td>\n",
       "    </tr>\n",
       "    <tr>\n",
       "      <th>2020-07-01</th>\n",
       "      <td>0.031059</td>\n",
       "      <td>0.031017</td>\n",
       "      <td>0.019709</td>\n",
       "    </tr>\n",
       "    <tr>\n",
       "      <th>2020-07-02</th>\n",
       "      <td>0.038651</td>\n",
       "      <td>0.037780</td>\n",
       "      <td>0.025201</td>\n",
       "    </tr>\n",
       "    <tr>\n",
       "      <th>2020-07-06</th>\n",
       "      <td>0.059949</td>\n",
       "      <td>0.062068</td>\n",
       "      <td>0.040520</td>\n",
       "    </tr>\n",
       "    <tr>\n",
       "      <th>...</th>\n",
       "      <td>...</td>\n",
       "      <td>...</td>\n",
       "      <td>...</td>\n",
       "    </tr>\n",
       "    <tr>\n",
       "      <th>2025-06-20</th>\n",
       "      <td>0.920686</td>\n",
       "      <td>0.802736</td>\n",
       "      <td>0.740180</td>\n",
       "    </tr>\n",
       "    <tr>\n",
       "      <th>2025-06-23</th>\n",
       "      <td>0.938540</td>\n",
       "      <td>0.812966</td>\n",
       "      <td>0.750009</td>\n",
       "    </tr>\n",
       "    <tr>\n",
       "      <th>2025-06-24</th>\n",
       "      <td>0.946961</td>\n",
       "      <td>0.828142</td>\n",
       "      <td>0.760996</td>\n",
       "    </tr>\n",
       "    <tr>\n",
       "      <th>2025-06-25</th>\n",
       "      <td>0.951359</td>\n",
       "      <td>0.830695</td>\n",
       "      <td>0.761556</td>\n",
       "    </tr>\n",
       "    <tr>\n",
       "      <th>2025-06-26</th>\n",
       "      <td>0.953834</td>\n",
       "      <td>0.835985</td>\n",
       "      <td>0.767352</td>\n",
       "    </tr>\n",
       "  </tbody>\n",
       "</table>\n",
       "<p>1255 rows × 3 columns</p>\n",
       "</div>"
      ],
      "text/plain": [
       "Ticker          MSFT       QQQ       SPY\n",
       "Date                                    \n",
       "2020-06-29       NaN       NaN       NaN\n",
       "2020-06-30  0.025228  0.019412  0.012728\n",
       "2020-07-01  0.031059  0.031017  0.019709\n",
       "2020-07-02  0.038651  0.037780  0.025201\n",
       "2020-07-06  0.059949  0.062068  0.040520\n",
       "...              ...       ...       ...\n",
       "2025-06-20  0.920686  0.802736  0.740180\n",
       "2025-06-23  0.938540  0.812966  0.750009\n",
       "2025-06-24  0.946961  0.828142  0.760996\n",
       "2025-06-25  0.951359  0.830695  0.761556\n",
       "2025-06-26  0.953834  0.835985  0.767352\n",
       "\n",
       "[1255 rows x 3 columns]"
      ]
     },
     "execution_count": 40,
     "metadata": {},
     "output_type": "execute_result"
    }
   ],
   "source": [
    "cumulative_log_value = log_returns.cumsum()\n",
    "cumulative_log_value"
   ]
  },
  {
   "cell_type": "markdown",
   "metadata": {},
   "source": [
    "Lets Plot the Cumulaive Function"
   ]
  },
  {
   "cell_type": "code",
   "execution_count": 43,
   "metadata": {},
   "outputs": [
    {
     "data": {
      "text/plain": [
       "<Axes: title={'center': 'Cumulative Value'}, xlabel='Date'>"
      ]
     },
     "execution_count": 43,
     "metadata": {},
     "output_type": "execute_result"
    },
    {
     "data": {
      "image/png": "[encoded data removed]",
      "text/plain": [
       "<Figure size 1000x600 with 1 Axes>"
      ]
     },
     "metadata": {},
     "output_type": "display_data"
    }
   ],
   "source": [
    "cumulative_log_value.plot(title=\"Cumulative Value\", figsize=(10,6))"
   ]
  }
 ],
 "metadata": {
  "kernelspec": {
   "display_name": "Python 3",
   "language": "python",
   "name": "python3"
  },
  "language_info": {
   "codemirror_mode": {
    "name": "ipython",
    "version": 3
   },
   "file_extension": ".py",
   "mimetype": "text/x-python",
   "name": "python",
   "nbconvert_exporter": "python",
   "pygments_lexer": "ipython3",
   "version": "3.11.8"
  }
 },
 "nbformat": 4,
 "nbformat_minor": 2
}
